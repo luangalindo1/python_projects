{
 "cells": [
  {
   "cell_type": "markdown",
   "metadata": {},
   "source": [
    "<img src=\"https://asimov.academy/wp-content/uploads/2021/01/logo.png\" width=\"200\"/>\n",
    "_____________________________________________\n",
    "\n",
    "## Exercícios #2 - Operadores de comparação e laços\n"
   ]
  },
  {
   "cell_type": "markdown",
   "metadata": {},
   "source": [
    "### Exercício 1\n",
    "Faça um programa para a leitura de duas notas parciais de um aluno. O programa deve calcular a média alcançada por aluno e apresentar:\n",
    "- A mensagem \"Aprovado\", se a média alcançada for maior ou igual a 7;\n",
    "- A mensagem \"Reprovado\", se a média for menor do que 7;\n",
    "- A mensagem \"Aprovado com Distinção\", se a média for igual a 10."
   ]
  },
  {
   "cell_type": "code",
   "execution_count": 57,
   "metadata": {
    "tags": []
   },
   "outputs": [
    {
     "name": "stdin",
     "output_type": "stream",
     "text": [
      "Insira a primeira nota: 8\n",
      "Insira a segunda nota: 9\n"
     ]
    },
    {
     "name": "stdout",
     "output_type": "stream",
     "text": [
      "Sua média foi de 8.50.\n",
      "Você foi aprovado.\n"
     ]
    }
   ],
   "source": [
    "nota1 = float(input(\"Insira a primeira nota:\"))\n",
    "while nota1 < 0 or nota1 > 10:\n",
    "    nota1 = float(input(\"Valor inválido! Insira novamente:\"))\n",
    "nota2 = float(input(\"Insira a segunda nota:\"))\n",
    "while nota2 < 0 or nota2 > 10:\n",
    "    nota2 = float(input(\"Valor inválido! Insira novamente:\"))\n",
    "import numpy as np\n",
    "#media = (nota1 + nota2)/2\n",
    "media = np.mean([nota1, nota2])\n",
    "print(\"Sua média foi de\", f\"{media:.2f}.\")\n",
    "if media == 10:\n",
    "    print(\"Você foi aprovado com distinção!\")\n",
    "elif media >= 7:\n",
    "    print(\"Você foi aprovado.\")\n",
    "else:\n",
    "    print(\"Você foi reprovado.\")"
   ]
  },
  {
   "cell_type": "markdown",
   "metadata": {},
   "source": [
    "### Exercício 2\n",
    "Escreva um script que leia três números e mostre o maior e o menor deles."
   ]
  },
  {
   "cell_type": "code",
   "execution_count": 59,
   "metadata": {
    "tags": []
   },
   "outputs": [
    {
     "name": "stdin",
     "output_type": "stream",
     "text": [
      "Insira o 1° valor: 5\n",
      "Insira o 2° valor: 10\n",
      "Insira o 3° valor: 12\n"
     ]
    },
    {
     "name": "stdout",
     "output_type": "stream",
     "text": [
      "Maior valor: 12.0\n",
      "Menor valor: 5.0\n"
     ]
    }
   ],
   "source": [
    "valores = []\n",
    "for i in range(3):\n",
    "    entrada = float(input(\"Insira o {}° valor:\".format(i+1)))\n",
    "    valores.append(entrada)\n",
    "print(\"Maior valor:\", max(valores))\n",
    "print(\"Menor valor:\", min(valores))"
   ]
  },
  {
   "cell_type": "markdown",
   "metadata": {},
   "source": [
    "### Exercício 3 \n",
    "Nome na vertical em escada. \n",
    "\n",
    "F<br>\n",
    "FU<br>\n",
    "FUL<br>\n",
    "FULA<br>\n",
    "FULAN<br>\n",
    "FULANO<br>"
   ]
  },
  {
   "cell_type": "code",
   "execution_count": 21,
   "metadata": {
    "tags": []
   },
   "outputs": [
    {
     "name": "stdout",
     "output_type": "stream",
     "text": [
      "\n",
      "F\n",
      "FU\n",
      "FUL\n",
      "FULA\n",
      "FULAN\n",
      "FULANO\n"
     ]
    }
   ],
   "source": [
    "nome = \"FULANO\"\n",
    "for letra in range(len(nome) + 1):\n",
    "    print(nome[:letra])\n"
   ]
  },
  {
   "cell_type": "markdown",
   "metadata": {},
   "source": [
    "### Exercício 4\n",
    "A série de Fibonacci é formada pela seqüência 1,1,2,3,5,8,13,21,34,55,... (o próximo termo, a partir do terceiro, é sempre gerado a partir do somatório dos últimos dois). Faça um programa capaz de gerar a série até o n−ésimo termo (onde o valor n deve ser inserido pelo usuário)."
   ]
  },
  {
   "cell_type": "code",
   "execution_count": 61,
   "metadata": {
    "tags": []
   },
   "outputs": [
    {
     "name": "stdin",
     "output_type": "stream",
     "text": [
      "Insira a quantidade de valores da sequência de Fibonacci: 10\n"
     ]
    },
    {
     "name": "stdout",
     "output_type": "stream",
     "text": [
      "[1, 1, 2, 3, 5, 8, 13, 21, 34, 55]\n"
     ]
    }
   ],
   "source": [
    "geratriz = int(input(\"Insira a quantidade de valores da sequência de Fibonacci:\"))\n",
    "while geratriz < 0:\n",
    "    geratriz = int(input(\"Valor inválido! Insira um valor maior que zero\"))\n",
    "\n",
    "def fibonacci(n):\n",
    "    sequencia = []\n",
    "    for i in range(n):\n",
    "        if i <= 1:\n",
    "            i = 1\n",
    "            sequencia.append(i)\n",
    "        else: \n",
    "            sequencia.append(sequencia[i-1] + sequencia[i-2])\n",
    "    return sequencia\n",
    "\n",
    "print(fibonacci(geratriz))"
   ]
  },
  {
   "cell_type": "markdown",
   "metadata": {},
   "source": [
    "### Exercício 5\n",
    "Faça um programa que leia e valide as seguintes informações:\n",
    "- Nome: maior que 3 caracteres;\n",
    "- Idade: entre 0 e 150;\n",
    "- Salário: maior que zero;\n",
    "- Sexo: 'f' ou 'm';\n",
    "- Estado Civil: 's', 'c', 'v', 'd';"
   ]
  },
  {
   "cell_type": "code",
   "execution_count": 62,
   "metadata": {
    "tags": []
   },
   "outputs": [
    {
     "name": "stdin",
     "output_type": "stream",
     "text": [
      "Insira seu nome: Lu\n",
      "Dados inválidos! Insira novamente. Luan\n",
      "Insira sua idade: -1\n",
      "Dados inválidos! Insira novamente. 0\n",
      "Insira seu salário em R$: 0\n",
      "Insira seu sexo (m ou f): a\n",
      "Dados inválidos! Insira novamente. s\n",
      "Dados inválidos! Insira novamente. d\n",
      "Dados inválidos! Insira novamente. f\n",
      "Insira seu estado civil (s, c, v ou d) w\n",
      "Dados inválidos! Insira novamente. s\n"
     ]
    },
    {
     "name": "stdout",
     "output_type": "stream",
     "text": [
      "{'Nome': 'Luan', 'Idade': 0, 'Salário': 0.0, 'Sexo': 'f', 'Estado Civil': 's'}\n"
     ]
    }
   ],
   "source": [
    "dados = {}\n",
    "nome = str(input(\"Insira seu nome:\"))\n",
    "while len(nome) < 3:\n",
    "    nome = str(input(\"Dados inválidos! Insira novamente.\"))\n",
    "dados[\"Nome\"] = nome\n",
    "\n",
    "idade = int(input(\"Insira sua idade:\"))\n",
    "while idade < 0 or idade > 150:\n",
    "    idade = int(input(\"Dados inválidos! Insira novamente.\"))\n",
    "dados[\"Idade\"] = idade\n",
    "\n",
    "salario = float(input(\"Insira seu salário em R$:\"))\n",
    "while salario < 0:\n",
    "    salario = float(input(\"Valor inválido! Insira novamente.\"))\n",
    "dados[\"Salário\"] = salario\n",
    "\n",
    "sexo = str(input(\"Insira seu sexo (m ou f):\"))\n",
    "while sexo != \"f\" and sexo != \"m\":\n",
    "    sexo = str(input(\"Dados inválidos! Insira novamente.\"))\n",
    "dados[\"Sexo\"] = sexo\n",
    "\n",
    "estadoc = str(input(\"Insira seu estado civil (s, c, v ou d)\"))\n",
    "while estadoc not in ['s', 'c', 'v', 'd']:\n",
    "    estadoc = str(input(\"Dados inválidos! Insira novamente.\"))\n",
    "dados[\"Estado Civil\"] = estadoc\n",
    "\n",
    "print(dados)"
   ]
  },
  {
   "cell_type": "markdown",
   "metadata": {},
   "source": [
    "### Exercício 6\n",
    "Faça um programa que peça um número inteiro e determine se ele é ou não um número primo. Um número primo é aquele que é divisível somente por ele mesmo e por 1. \n",
    "Dica: Utilize o operador aritmético `%`, que retorna o resto da divisão de dois números."
   ]
  },
  {
   "cell_type": "code",
   "execution_count": null,
   "metadata": {},
   "outputs": [],
   "source": []
  },
  {
   "cell_type": "code",
   "execution_count": 71,
   "metadata": {
    "tags": []
   },
   "outputs": [
    {
     "name": "stdin",
     "output_type": "stream",
     "text": [
      "Insira um inteiro positivo não nulo: 98556622231\n"
     ]
    },
    {
     "name": "stdout",
     "output_type": "stream",
     "text": [
      "É primo\n"
     ]
    }
   ],
   "source": [
    "entrada = int(input(\"Insira um inteiro positivo não nulo:\"))\n",
    "while entrada <= 0:\n",
    "    entrada = int(input(\"Dados inválidos! Insira novamente:\"))\n",
    "def primo(ent):\n",
    "    if ent == 1:\n",
    "        print(\"Não é primo\")\n",
    "    elif ent == 2:\n",
    "        print(\"É primo\")\n",
    "    else:\n",
    "        for i in range(2, ent):\n",
    "            if ent % i == 0:\n",
    "                print(\"Não é primo\")\n",
    "                break\n",
    "            else:\n",
    "                print(\"É primo\")\n",
    "                break\n",
    "primo(entrada)"
   ]
  },
  {
   "cell_type": "code",
   "execution_count": null,
   "metadata": {},
   "outputs": [],
   "source": []
  }
 ],
 "metadata": {
  "kernelspec": {
   "display_name": "Python 3 (ipykernel)",
   "language": "python",
   "name": "python3"
  },
  "language_info": {
   "codemirror_mode": {
    "name": "ipython",
    "version": 3
   },
   "file_extension": ".py",
   "mimetype": "text/x-python",
   "name": "python",
   "nbconvert_exporter": "python",
   "pygments_lexer": "ipython3",
   "version": "3.11.5"
  }
 },
 "nbformat": 4,
 "nbformat_minor": 4
}
