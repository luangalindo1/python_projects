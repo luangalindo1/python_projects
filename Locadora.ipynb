{
 "cells": [
  {
   "cell_type": "markdown",
   "id": "1b851c4f-216c-4f55-a255-ff1fabd17728",
   "metadata": {},
   "source": [
    "### PROJETO GESTÃO DE LOCADORA\n",
    "\n",
    "Projeto elementar de gestão de locadora de carros"
   ]
  },
  {
   "cell_type": "code",
   "execution_count": null,
   "id": "e5b9bb74-8876-450b-afad-f1b7e3cac0b4",
   "metadata": {
    "tags": []
   },
   "outputs": [
    {
     "name": "stdout",
     "output_type": "stream",
     "text": [
      "Bem vindo à locadora! Insira o que você deseja.\n",
      "0 - Mostrar portifólio | 1 - Alugar | 2 - Devolver\n"
     ]
    },
    {
     "name": "stdin",
     "output_type": "stream",
     "text": [
      " 0\n"
     ]
    },
    {
     "name": "stdout",
     "output_type": "stream",
     "text": [
      "[0] Carro1 - R$120 /dia\n",
      "[1] Carro2 - R$100 /dia\n",
      "[2] Carro3 - R$90 /dia\n",
      "[3] Carro4 - R$112 /dia\n",
      "[4] Carro5 - R$85 /dia\n"
     ]
    },
    {
     "name": "stdin",
     "output_type": "stream",
     "text": [
      "\n",
      "\n",
      "Deseja fazer uma nova operação? (y / n): y\n"
     ]
    },
    {
     "name": "stdout",
     "output_type": "stream",
     "text": [
      "Bem vindo à locadora! Insira o que você deseja.\n",
      "0 - Mostrar portifólio | 1 - Alugar | 2 - Devolver\n"
     ]
    },
    {
     "name": "stdin",
     "output_type": "stream",
     "text": [
      " 1\n"
     ]
    },
    {
     "name": "stdout",
     "output_type": "stream",
     "text": [
      "[0] Carro1 - R$120 /dia\n",
      "[1] Carro2 - R$100 /dia\n",
      "[2] Carro3 - R$90 /dia\n",
      "[3] Carro4 - R$112 /dia\n",
      "[4] Carro5 - R$85 /dia\n"
     ]
    },
    {
     "name": "stdin",
     "output_type": "stream",
     "text": [
      "Qual carro você deseja? 1\n",
      "Por quantos dias você deseja mantê-lo? 5\n"
     ]
    },
    {
     "name": "stdout",
     "output_type": "stream",
     "text": [
      "Seu custo será de R$500\n"
     ]
    },
    {
     "name": "stdin",
     "output_type": "stream",
     "text": [
      "\n",
      "\n",
      "Deseja fazer uma nova operação? (y / n): y\n"
     ]
    },
    {
     "name": "stdout",
     "output_type": "stream",
     "text": [
      "Bem vindo à locadora! Insira o que você deseja.\n",
      "0 - Mostrar portifólio | 1 - Alugar | 2 - Devolver\n"
     ]
    },
    {
     "name": "stdin",
     "output_type": "stream",
     "text": [
      " 0\n"
     ]
    },
    {
     "name": "stdout",
     "output_type": "stream",
     "text": [
      "[0] Carro1 - R$120 /dia\n",
      "[1] Carro3 - R$90 /dia\n",
      "[2] Carro4 - R$112 /dia\n",
      "[3] Carro5 - R$85 /dia\n"
     ]
    },
    {
     "name": "stdin",
     "output_type": "stream",
     "text": [
      "\n",
      "\n",
      "Deseja fazer uma nova operação? (y / n): y\n"
     ]
    },
    {
     "name": "stdout",
     "output_type": "stream",
     "text": [
      "Bem vindo à locadora! Insira o que você deseja.\n",
      "0 - Mostrar portifólio | 1 - Alugar | 2 - Devolver\n"
     ]
    },
    {
     "name": "stdin",
     "output_type": "stream",
     "text": [
      " 2\n"
     ]
    },
    {
     "name": "stdout",
     "output_type": "stream",
     "text": [
      "[0] Carro2 - R$100 /dia\n"
     ]
    },
    {
     "name": "stdin",
     "output_type": "stream",
     "text": [
      "Qual carro você deseja devolver? 0\n",
      "\n",
      "\n",
      "Deseja fazer uma nova operação? (y / n): y\n"
     ]
    },
    {
     "name": "stdout",
     "output_type": "stream",
     "text": [
      "Bem vindo à locadora! Insira o que você deseja.\n",
      "0 - Mostrar portifólio | 1 - Alugar | 2 - Devolver\n"
     ]
    },
    {
     "name": "stdin",
     "output_type": "stream",
     "text": [
      " 0\n"
     ]
    },
    {
     "name": "stdout",
     "output_type": "stream",
     "text": [
      "[0] Carro1 - R$120 /dia\n",
      "[1] Carro3 - R$90 /dia\n",
      "[2] Carro4 - R$112 /dia\n",
      "[3] Carro5 - R$85 /dia\n",
      "[4] Carro2 - R$100 /dia\n"
     ]
    }
   ],
   "source": [
    "carros = [(\"Carro1\", 120), (\"Carro2\", 100), (\"Carro3\", 90), (\"Carro4\", 112), (\"Carro5\", 85)]\n",
    "alugados = []\n",
    "\n",
    "def mostra_carro(lista):\n",
    "    for i, car in enumerate(lista):\n",
    "        print(\"[{}] {} - R${} /dia\".format(i, car[0], car[1]))\n",
    "\n",
    "cont = \"y\"\n",
    "while cont == \"y\":\n",
    "    print(\"Bem vindo à locadora! Insira o que você deseja.\")\n",
    "    print(\"0 - Mostrar portifólio | 1 - Alugar | 2 - Devolver\")\n",
    "    esc1 = int(input())\n",
    "    while esc1 not in [0, 1, 2]:\n",
    "        esc1 = int(input(\"Opção inválida! Insira novamente.\"))\n",
    "    if esc1 == 0:\n",
    "        mostra_carro(carros)\n",
    "    elif esc1 == 1:\n",
    "        mostra_carro(carros)\n",
    "        esc_car = int(input(\"Qual carro você deseja?\"))\n",
    "        periodo = int(input(\"Por quantos dias você deseja mantê-lo?\"))\n",
    "        print(\"Seu custo será de R${}\".format(carros[esc_car][1]*periodo))\n",
    "        alugados.append(carros.pop(esc_car))\n",
    "    elif esc1 == 2:\n",
    "        mostra_carro(alugados)\n",
    "        esc_car = int(input(\"Qual carro você deseja devolver?\"))\n",
    "        carros.append(alugados.pop(esc_car))\n",
    "    cont = input(\"\\n\\nDeseja fazer uma nova operação? (y / n):\")"
   ]
  },
  {
   "cell_type": "code",
   "execution_count": null,
   "id": "522ebb08-8548-4ca0-8d58-0606c5261295",
   "metadata": {},
   "outputs": [],
   "source": []
  },
  {
   "cell_type": "code",
   "execution_count": null,
   "id": "0cc95ad9-aa4f-4d42-9d5a-9efebb5f958e",
   "metadata": {},
   "outputs": [],
   "source": []
  }
 ],
 "metadata": {
  "kernelspec": {
   "display_name": "Python 3 (ipykernel)",
   "language": "python",
   "name": "python3"
  },
  "language_info": {
   "codemirror_mode": {
    "name": "ipython",
    "version": 3
   },
   "file_extension": ".py",
   "mimetype": "text/x-python",
   "name": "python",
   "nbconvert_exporter": "python",
   "pygments_lexer": "ipython3",
   "version": "3.11.5"
  }
 },
 "nbformat": 4,
 "nbformat_minor": 5
}
