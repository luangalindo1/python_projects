{
 "cells": [
  {
   "cell_type": "markdown",
   "metadata": {},
   "source": [
    "<img src=\"https://asimov.academy/wp-content/uploads/2021/01/logo.png\" width=\"200\"/>\n",
    "_____________________________________________\n",
    "\n",
    "## Exercícios #1 - Estruturas de dados\n"
   ]
  },
  {
   "cell_type": "markdown",
   "metadata": {},
   "source": [
    "### Exercício 1\n",
    "Utilizando o built-in method input(), crie um programa que receba a altura e o peso de uma pessoa e imprima na tela o IMC da mesma."
   ]
  },
  {
   "cell_type": "code",
   "execution_count": 22,
   "metadata": {
    "scrolled": true,
    "tags": []
   },
   "outputs": [
    {
     "name": "stdout",
     "output_type": "stream",
     "text": [
      "Cálculo do IMC\n",
      "\n"
     ]
    },
    {
     "name": "stdin",
     "output_type": "stream",
     "text": [
      "Insira sua altura em cm: 180\n",
      "Insira seu peso em Kg: 93\n"
     ]
    },
    {
     "name": "stdout",
     "output_type": "stream",
     "text": [
      "Seu IMC vale 28.70 Kg/m2\n"
     ]
    }
   ],
   "source": [
    "print(\"Cálculo do IMC\\n\")\n",
    "altura = float(input(\"Insira sua altura em cm:\"))\n",
    "peso = float(input(\"Insira seu peso em Kg:\"))\n",
    "IMC = peso/((altura/100)**2)\n",
    "print(\"Seu IMC vale\", f\"{IMC:.2f}\", \"Kg/m2\")"
   ]
  },
  {
   "cell_type": "markdown",
   "metadata": {},
   "source": [
    "### Exercício 2 \n",
    "Escreva um programa que pergunte o nome completo do usuário e cumprimente o mesmo pelo primeiro nome."
   ]
  },
  {
   "cell_type": "code",
   "execution_count": 27,
   "metadata": {
    "tags": []
   },
   "outputs": [
    {
     "name": "stdin",
     "output_type": "stream",
     "text": [
      "Olá! Insira seu nome por favor:  Luan Galindo\n"
     ]
    },
    {
     "name": "stdout",
     "output_type": "stream",
     "text": [
      "\n",
      "Seja Bem Vindo Luan !\n"
     ]
    }
   ],
   "source": [
    "nome = str(input(\"Olá! Insira seu nome por favor: \"))\n",
    "primeiro_nome = nome.split()[0]\n",
    "print(\"\\nSeja Bem Vindo\", primeiro_nome, \"!\")\n"
   ]
  },
  {
   "cell_type": "markdown",
   "metadata": {},
   "source": [
    "### Exercício 3\n",
    "Desenho um código que extraia o domínio de um e-mail informado."
   ]
  },
  {
   "cell_type": "code",
   "execution_count": 25,
   "metadata": {
    "tags": []
   },
   "outputs": [
    {
     "name": "stdin",
     "output_type": "stream",
     "text": [
      "Por favor, insira seu e-mail: luangalindo@outlook.com\n"
     ]
    },
    {
     "name": "stdout",
     "output_type": "stream",
     "text": [
      "Seu alias é: luangalindo e seu domínio é outlook.com\n",
      "\n",
      "\n",
      "O domínio do e-mail é: outlook.com\n"
     ]
    }
   ],
   "source": [
    "email = input(\"Por favor, insira seu e-mail:\")\n",
    "\n",
    "import re\n",
    "padrao = r'(.+)@(.+)'\n",
    "nome, dominio = re.match(padrao, email).groups()\n",
    "print(\"Seu alias é:\", nome, \"e seu domínio é\", dominio)\n",
    "\n",
    "#sol 2\n",
    "dominio2 = email.split(\"@\")[-1]\n",
    "print(\"\\n\")\n",
    "print(\"O domínio do e-mail é: {}\".format(dominio2))"
   ]
  },
  {
   "cell_type": "markdown",
   "metadata": {},
   "source": [
    "### Exercício 4 \n",
    "Faça um programa para uma loja de tintas. A pessoa informa a área em m2 que deseja pintar, e o script calculará a quantidade de latas de tinta que a pessoa deve comprar e o valor. Considere que cada litro de tinta pinta 3m2, que cada lata contém 18L e que custa R$ 80."
   ]
  },
  {
   "cell_type": "code",
   "execution_count": 26,
   "metadata": {
    "tags": []
   },
   "outputs": [
    {
     "name": "stdin",
     "output_type": "stream",
     "text": [
      "Insira o tamanho da área em m2 que você deseja pintar: 180\n"
     ]
    },
    {
     "name": "stdout",
     "output_type": "stream",
     "text": [
      "Você precisará de 4 lata(s) e isso custará R$ 320\n"
     ]
    }
   ],
   "source": [
    "area = float(input(\"Insira o tamanho da área em m2 que você deseja pintar:\"))\n",
    "if area%(3*18) == 0:\n",
    "    latas = int(area/(3*18))\n",
    "else:\n",
    "    latas = int(area/(3*18)) + 1 \n",
    "custo = 80*latas\n",
    "print(\"Você precisará de\", latas, \"lata(s) e isso custará R$\", custo)"
   ]
  },
  {
   "cell_type": "markdown",
   "metadata": {},
   "source": [
    "### Exercício 5\n",
    "Faça um Programa que pergunte quanto você ganha por hora e o número de horas trabalhadas no mês. Calcule e mostre o total do seu salário no referido mês, sabendo-se que são descontados 11% para o Imposto de Renda, 8% para o INSS e 5% para o sindicato, faça um programa que nos dê:\n",
    "1. Salário bruto.\n",
    "2. Quanto pagou ao INSS.\n",
    "3. Quanto pagou ao sindicato.\n",
    "4. O salário líquido."
   ]
  },
  {
   "cell_type": "code",
   "execution_count": 16,
   "metadata": {
    "tags": []
   },
   "outputs": [
    {
     "name": "stdin",
     "output_type": "stream",
     "text": [
      "Insira quantas horas você trabalha por dia: 8\n",
      "Insira quanto você ganha por hora: 10\n"
     ]
    },
    {
     "name": "stdout",
     "output_type": "stream",
     "text": [
      "Seu salário bruto é de R$ 2000.0 com R$ 220.0 pagos ao IR, além de R$ 160.0 pagos ao INSS e R$ 100.0 pagos ao sindicato. Seu salário líquido é de R$ 1520.0\n"
     ]
    }
   ],
   "source": [
    "horas = int(input(\"Insira quantas horas você trabalha por dia:\"))\n",
    "ganho = float(input(\"Insira quanto você ganha por hora:\"))\n",
    "\n",
    "salario_b = horas*25*ganho\n",
    "imposto = salario_b*0.11\n",
    "inss = salario_b*0.08\n",
    "sindicato = salario_b*0.05\n",
    "salario_l = salario_b - imposto - inss - sindicato\n",
    "\n",
    "print(\"Seu salário bruto é de R$\", salario_b, \"com R$\", imposto, \"pagos ao IR, além de R$\",\n",
    "      inss, \"pagos ao INSS e R$\", sindicato, \"pagos ao sindicato. Seu salário líquido é de R$\", salario_l)"
   ]
  },
  {
   "cell_type": "code",
   "execution_count": null,
   "metadata": {},
   "outputs": [],
   "source": []
  }
 ],
 "metadata": {
  "kernelspec": {
   "display_name": "Python 3 (ipykernel)",
   "language": "python",
   "name": "python3"
  },
  "language_info": {
   "codemirror_mode": {
    "name": "ipython",
    "version": 3
   },
   "file_extension": ".py",
   "mimetype": "text/x-python",
   "name": "python",
   "nbconvert_exporter": "python",
   "pygments_lexer": "ipython3",
   "version": "3.11.5"
  }
 },
 "nbformat": 4,
 "nbformat_minor": 4
}
