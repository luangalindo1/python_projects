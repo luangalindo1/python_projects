{
 "cells": [
  {
   "cell_type": "markdown",
   "id": "3457a8fc-8dbe-4065-83fb-8b135a2ef7cf",
   "metadata": {
    "tags": []
   },
   "source": [
    "### PROJETO DE CALCULADORA\n",
    "\n",
    "Projeto de calculadora elementar"
   ]
  },
  {
   "cell_type": "code",
   "execution_count": 1,
   "id": "d3f76f34-002f-4256-aae6-01a509258f4f",
   "metadata": {
    "tags": []
   },
   "outputs": [
    {
     "name": "stdin",
     "output_type": "stream",
     "text": [
      "\n",
      "Insira o primeiro valor que você quer operar: 9\n",
      "Insira o segundo valor que você quer operar: 5\n"
     ]
    },
    {
     "name": "stdout",
     "output_type": "stream",
     "text": [
      "\n",
      "\n",
      "As operações disponíveis são: \n",
      "1: Adição \n",
      "2: Subtração \n",
      "3: Divisão\n",
      "4: Multiplicação \n",
      "5: Exponenciação\n",
      "\n",
      "\n"
     ]
    },
    {
     "name": "stdin",
     "output_type": "stream",
     "text": [
      "Insira a operação que você deseja fazer: 1\n"
     ]
    },
    {
     "name": "stdout",
     "output_type": "stream",
     "text": [
      "\n",
      "v1 + v2 = 14.00\n"
     ]
    },
    {
     "name": "stdin",
     "output_type": "stream",
     "text": [
      "\n",
      "\n",
      "Deseja fazer uma nova operação? (y / n): y\n",
      "\n",
      "Insira o primeiro valor que você quer operar: 9\n",
      "Insira o segundo valor que você quer operar: 5\n"
     ]
    },
    {
     "name": "stdout",
     "output_type": "stream",
     "text": [
      "\n",
      "\n",
      "As operações disponíveis são: \n",
      "1: Adição \n",
      "2: Subtração \n",
      "3: Divisão\n",
      "4: Multiplicação \n",
      "5: Exponenciação\n",
      "\n",
      "\n"
     ]
    },
    {
     "name": "stdin",
     "output_type": "stream",
     "text": [
      "Insira a operação que você deseja fazer: 2\n"
     ]
    },
    {
     "name": "stdout",
     "output_type": "stream",
     "text": [
      "\n",
      "v1 - v2 = 4.00\n"
     ]
    },
    {
     "name": "stdin",
     "output_type": "stream",
     "text": [
      "\n",
      "\n",
      "Deseja fazer uma nova operação? (y / n): n\n"
     ]
    }
   ],
   "source": [
    "import os\n",
    "continuar = \"y\"\n",
    "while continuar == \"y\":\n",
    "    os.system(\"clear\")\n",
    "    v1 = float(input(\"\\nInsira o primeiro valor que você quer operar:\"))\n",
    "    v2 = float(input(\"Insira o segundo valor que você quer operar:\"))\n",
    "    print(\"\\n\\nAs operações disponíveis são: \\n1: Adição \\n2: Subtração \\n3: Divisão\")\n",
    "    print(\"4: Multiplicação \\n5: Exponenciação\\n\\n\")\n",
    "    op = int(input(\"Insira a operação que você deseja fazer:\"))\n",
    "    while op not in [1, 2, 3, 4, 5]:\n",
    "        op = int(input(\"Valor inválido! Insira novamente:\"))\n",
    "    if op == 1:\n",
    "        print(\"\\nv1 + v2 =\", f\"{(v1 + v2):.2f}\")\n",
    "    elif op == 2:\n",
    "        print(\"\\nv1 - v2 =\", f\"{(v1 - v2):.2f}\")\n",
    "    elif op == 3:\n",
    "        print(\"\\nv1 / v2 =\", f\"{(v1 / v2):.2f}\")\n",
    "    elif op == 4:\n",
    "        print(\"\\nv1 * v2 =\", f\"{(v1 * v2):.2f}\")\n",
    "    else:\n",
    "        print(\"\\nv1 ** v2 =\", f\"{(v1 ** v2):.2f}\")\n",
    "    continuar = input(\"\\n\\nDeseja fazer uma nova operação? (y / n):\")\n",
    "    "
   ]
  },
  {
   "cell_type": "code",
   "execution_count": null,
   "id": "49947263-3b37-450c-94cf-41323ee9153a",
   "metadata": {},
   "outputs": [],
   "source": []
  }
 ],
 "metadata": {
  "kernelspec": {
   "display_name": "Python 3 (ipykernel)",
   "language": "python",
   "name": "python3"
  },
  "language_info": {
   "codemirror_mode": {
    "name": "ipython",
    "version": 3
   },
   "file_extension": ".py",
   "mimetype": "text/x-python",
   "name": "python",
   "nbconvert_exporter": "python",
   "pygments_lexer": "ipython3",
   "version": "3.11.5"
  }
 },
 "nbformat": 4,
 "nbformat_minor": 5
}
